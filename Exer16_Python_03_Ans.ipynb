{
  "cells": [
    {
      "cell_type": "markdown",
      "metadata": {
        "id": "view-in-github",
        "colab_type": "text"
      },
      "source": [
        "<a href=\"https://colab.research.google.com/github/BoLan2022/WVU_GSCM425_Python/blob/main/Exer16_Python_03_Ans.ipynb\" target=\"_parent\"><img src=\"https://colab.research.google.com/assets/colab-badge.svg\" alt=\"Open In Colab\"/></a>"
      ]
    },
    {
      "cell_type": "markdown",
      "metadata": {
        "id": "XEfb5uWsrY9k"
      },
      "source": [
        "#### Python exercise 3: There are six customers with their coordinates ([-1, 2], [0, 2.5], [1, 2], [8, 4], [10, 4], [9, 3.5]) and demands ([32, 16, 8, 4, 2, 1]) provided. \n",
        "Q3.1 Please find and plot the best single location of a warehouse to support those customers by utilizing the unweighted K-Means algorithm in the package of SKlearn of Python."
      ]
    },
    {
      "cell_type": "code",
      "execution_count": null,
      "metadata": {
        "id": "NJ5YxYELrY9m",
        "outputId": "b1da15d1-257a-4e69-ffe4-797f5d89ba42"
      },
      "outputs": [
        {
          "name": "stdout",
          "output_type": "stream",
          "text": [
            "Coordinates of clusters' centers:\n",
            " [[4.5 3. ]]\n",
            "Customers are supported by w/h: [0 0 0 0 0 0]\n"
          ]
        },
        {
          "data": {
            "image/png": "[encoded data removed]",
            "text/plain": [
              "<Figure size 432x288 with 1 Axes>"
            ]
          },
          "metadata": {
            "needs_background": "light"
          },
          "output_type": "display_data"
        }
      ],
      "source": [
        "# If a package, e.g. sklearn, was not installed. Just google 'sklearn anaconda install'.\n",
        "#   Then go to 'Scikit Learn :: Anaconda Cloud' that will show you a commond \n",
        "#   'conda install -c anaconda scikit-learn'. In your computer press the icon of \n",
        "#   Windows => key in 'Anaconda Prompt' Enter => In the black screen of Anaconda\n",
        "#   paste the command you just copied from the website of Sklearn into Anaconda prompt and \n",
        "#   press Enter. Follow the instruction and press '[Y]es' to accept installation.\n",
        "from sklearn.cluster import KMeans\n",
        "import numpy as np\n",
        "import matplotlib.pyplot as plt\n",
        "\n",
        "# Q3.1 unweighted K-Mean Clustering Algorithm\n",
        "# Hint: update your customers' coordinates here will help you finish the final project part 3.\n",
        "X = np.array([[-1, 2], [0, 2.5], [1, 2], [8, 4], [10, 4], [9, 3.5]])\n",
        "\n",
        "# Plot customers\n",
        "plt.scatter(X[:, 0], X[:, 1])\n",
        "plt.title('Locations of customers and warehouses', fontsize=12)\n",
        "plt.xlabel('x coordinate', fontsize=12)\n",
        "plt.ylabel('y coordinate', fontsize=12);\n",
        "\n",
        "# Pass samples to fit the KMeans model\n",
        "kmeans = KMeans(n_clusters = 1, random_state = 0).fit(X)\n",
        "# Get coordinates of centers\n",
        "centers = kmeans.cluster_centers_\n",
        "print(\"Coordinates of clusters' centers:\\n\", centers)\n",
        "# Annotate centers; ha (va) = horizontal (vertical) alignment\n",
        "for i in range(len(centers)):\n",
        "    plt.annotate(i, xy = centers[i], xytext = centers[i], ha = 'center', va = 'center')\n",
        "# Plot centers\n",
        "# c = color; s = marker size; alpha = transparency 0~1;\n",
        "plt.scatter(centers[:, 0], centers[:, 1], c = 'red', s = 100, alpha = 0.5)\n",
        "print(\"Customers are supported by w/h:\", kmeans.labels_)"
      ]
    },
    {
      "cell_type": "markdown",
      "metadata": {
        "id": "N7y8pNv8rY9o"
      },
      "source": [
        "Q3.2 Repeat the process of Q3.1 but use demands as weights to make a weighted K-Means algorithm. Find and plot the best 1, 2 location(s) of warehouse(s). "
      ]
    },
    {
      "cell_type": "code",
      "execution_count": null,
      "metadata": {
        "id": "VB3UiYgurY9o",
        "outputId": "631ac5cd-7d14-4411-dbb2-8d155152008b"
      },
      "outputs": [
        {
          "name": "stdout",
          "output_type": "stream",
          "text": [
            "Coordinates of clusters' centers:\n",
            " [[ 8.71428571  3.92857143]\n",
            " [-0.42857143  2.14285714]]\n",
            "Customers are supported by w/h: [1 1 1 0 0 0]\n"
          ]
        },
        {
          "data": {
            "image/png": "[encoded data removed]",
            "text/plain": [
              "<Figure size 432x288 with 1 Axes>"
            ]
          },
          "metadata": {
            "needs_background": "light"
          },
          "output_type": "display_data"
        }
      ],
      "source": [
        "# Q3.2. Weighted K-Mean Clustering Algorithm\n",
        "# Hint: update your customers' coordinates and demands here will help you finish the final project part 3.\n",
        "X = np.array([[-1, 2], [0, 2.5], [1, 2], [8, 4], [10, 4], [9, 3.5]]) #coordiantes of customers\n",
        "wt = [32, 16, 8, 4, 2, 1]  # use demands as weights\n",
        "\n",
        "# Pass samples to fit the KMeans model\n",
        "wt_kmeans = KMeans(n_clusters = 2, random_state = 0).fit(X, sample_weight = wt)\n",
        "# Customers are visualized with different colors associated with their groups.\n",
        "plt.scatter(X[:, 0], X[:, 1], c = wt_kmeans.labels_.astype(float))\n",
        "plt.title('Locations of customers and warehouses', fontsize=12)\n",
        "plt.xlabel('x coordinate', fontsize=12)\n",
        "plt.ylabel('y coordinate', fontsize=12);\n",
        "\n",
        "# Get coordinates of centers\n",
        "centers = wt_kmeans.cluster_centers_\n",
        "print(\"Coordinates of clusters' centers:\\n\", centers)\n",
        "# Annotate centers; ha (va) = horizontal (vertical) alignment\n",
        "for i in range(len(centers)):\n",
        "    plt.annotate(i, xy = centers[i], xytext = centers[i], ha = 'center', va = 'center')\n",
        "# Plot centers\n",
        "# c = color; s = marker size; alpha = transparency 0~1;\n",
        "plt.scatter(centers[:, 0], centers[:, 1], c = 'red', s = 100, alpha = 0.5)\n",
        "print(\"Customers are supported by w/h:\", wt_kmeans.labels_)"
      ]
    },
    {
      "cell_type": "markdown",
      "metadata": {
        "id": "c5RgRW-brY9p"
      },
      "source": [
        "Q3.3. Based on the results from Q3.2, which centers do the two new customers belong to? coordinates = [[0, 0], [12, 3]], demands = [10, 5]"
      ]
    },
    {
      "cell_type": "code",
      "execution_count": null,
      "metadata": {
        "id": "YRou0JHvrY9p",
        "outputId": "0a12822f-fa31-4c7f-dcd5-c0d45bfd7405"
      },
      "outputs": [
        {
          "name": "stdout",
          "output_type": "stream",
          "text": [
            "Customers are supported by w/h: [1 0]\n"
          ]
        }
      ],
      "source": [
        "# Q3.3. Predict centers for new customers\n",
        "wt_new = [10, 5]  # use demands as weights\n",
        "print(\"Customers are supported by w/h:\", wt_kmeans.predict([[0, 0], [12, 3]], \\\n",
        "       sample_weight = wt_new))"
      ]
    }
  ],
  "metadata": {
    "kernelspec": {
      "display_name": "Python 3",
      "language": "python",
      "name": "python3"
    },
    "language_info": {
      "codemirror_mode": {
        "name": "ipython",
        "version": 3
      },
      "file_extension": ".py",
      "mimetype": "text/x-python",
      "name": "python",
      "nbconvert_exporter": "python",
      "pygments_lexer": "ipython3",
      "version": "3.7.3"
    },
    "colab": {
      "provenance": [],
      "include_colab_link": true
    }
  },
  "nbformat": 4,
  "nbformat_minor": 0
}