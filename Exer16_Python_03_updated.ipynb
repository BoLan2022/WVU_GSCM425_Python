{
  "cells": [
    {
      "cell_type": "markdown",
      "metadata": {
        "id": "view-in-github",
        "colab_type": "text"
      },
      "source": [
        "<a href=\"https://colab.research.google.com/github/BoLan2022/WVU_GSCM425_Python/blob/main/Exer16_Python_03_updated.ipynb\" target=\"_parent\"><img src=\"https://colab.research.google.com/assets/colab-badge.svg\" alt=\"Open In Colab\"/></a>"
      ]
    },
    {
      "cell_type": "markdown",
      "metadata": {
        "id": "l_l00iYzjr4f"
      },
      "source": [
        "#### Python exercise 3: There are six customers with their coordinates ([-1, 2], [0, 2.5], [1, 2], [8, 4], [10, 4], [9, 3.5]) and demands ([32, 16, 8, 4, 2, 1]) provided. \n",
        "Q3.1. Please find and plot the best single location of a warehouse to support those customers by utilizing the unweighted K-Means algorithm in the package of SKlearn of Python."
      ]
    },
    {
      "cell_type": "code",
      "execution_count": null,
      "metadata": {
        "colab": {
          "base_uri": "https://localhost:8080/",
          "height": 283
        },
        "id": "R5Tvs-dQjr4k",
        "outputId": "3753e882-2926-4dc1-e4bb-e70842ea8b29"
      },
      "outputs": [
        {
          "output_type": "execute_result",
          "data": {
            "text/plain": [
              "<matplotlib.collections.PathCollection at 0x7f2b13a26c10>"
            ]
          },
          "metadata": {},
          "execution_count": 3
        },
        {
          "output_type": "display_data",
          "data": {
            "text/plain": [
              "<Figure size 432x288 with 1 Axes>"
            ],
            "image/png": "[encoded data removed]"
          },
          "metadata": {
            "needs_background": "light"
          }
        }
      ],
      "source": [
        "# If a package, e.g. sklearn, was not installed. Just google 'sklearn anaconda install'.\n",
        "#   Then go to 'Scikit Learn :: Anaconda Cloud' that will show you a commond \n",
        "#   'conda install -c anaconda scikit-learn'. In your computer press the icon of \n",
        "#   Windows => key in 'Anaconda Prompt' Enter => In the black screen of Anaconda\n",
        "#   paste the command you just copied from the website of Sklearn into Anaconda prompt and \n",
        "#   press Enter. Follow the instruction and press '[Y]es' to accept installation.\n",
        "\n",
        "from sklearn.cluster import KMeans\n",
        "import numpy as np\n",
        "import matplotlib.pyplot as plt\n",
        "\n",
        "# Q3.1. unweighted K-Mean Clustering Algorithm\n",
        "# Hint: update your customers' coordinates here will help you finish the final project part 3.\n",
        "X = np.array([[-1, 2], [0, 2.5], [1, 2], [8, 4], [10, 4], [9, 3.5]])\n",
        "\n",
        "# Plot customers\n",
        "plt.scatter(X[:, 0], X[:, 1])"
      ]
    },
    {
      "cell_type": "markdown",
      "metadata": {
        "id": "TGgLmKV4jr4o"
      },
      "source": [
        "Q3.2. Repeat the process of Q3.1 but use demands as weights to make a weighted K-Means algorithm. Find and plot the best 1/2 location(s) of warehouse(s). "
      ]
    },
    {
      "cell_type": "code",
      "execution_count": null,
      "metadata": {
        "id": "l-c6ciXDjr4p"
      },
      "outputs": [],
      "source": [
        "# Q3.2. Weighted K-Mean Clustering Algorithm\n",
        "# Hint: update your customers' coordinates here will help you finish the final project part 3."
      ]
    },
    {
      "cell_type": "markdown",
      "metadata": {
        "id": "iy0tTyYZjr4q"
      },
      "source": [
        "Q3.3. Based on the results from Q3.2, which centers do the two new customers belong to? coordinates = [[0, 0], [12, 3]], demands = [10, 5]"
      ]
    },
    {
      "cell_type": "code",
      "execution_count": null,
      "metadata": {
        "id": "i2dtZLidjr4q"
      },
      "outputs": [],
      "source": [
        "# Q3.3. Predict centers for new customers"
      ]
    }
  ],
  "metadata": {
    "kernelspec": {
      "display_name": "Python 3",
      "language": "python",
      "name": "python3"
    },
    "language_info": {
      "codemirror_mode": {
        "name": "ipython",
        "version": 3
      },
      "file_extension": ".py",
      "mimetype": "text/x-python",
      "name": "python",
      "nbconvert_exporter": "python",
      "pygments_lexer": "ipython3",
      "version": "3.7.3"
    },
    "colab": {
      "provenance": [],
      "collapsed_sections": [],
      "include_colab_link": true
    }
  },
  "nbformat": 4,
  "nbformat_minor": 0
}